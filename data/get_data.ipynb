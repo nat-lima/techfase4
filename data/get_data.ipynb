{
 "cells": [
  {
   "cell_type": "code",
   "execution_count": 1,
   "id": "4dfcb424",
   "metadata": {},
   "outputs": [],
   "source": [
    "import requests\n",
    "import pandas as pd\n",
    "from datetime import date, timedelta"
   ]
  },
  {
   "cell_type": "code",
   "execution_count": 2,
   "id": "76f6cde7",
   "metadata": {},
   "outputs": [],
   "source": [
    "# Parâmetros\n",
    "symbol = 'ACN'\n",
    "start_date = '2018-01-01'"
   ]
  },
  {
   "cell_type": "code",
   "execution_count": 3,
   "id": "33e0c332",
   "metadata": {},
   "outputs": [
    {
     "name": "stdout",
     "output_type": "stream",
     "text": [
      "2025-07-20\n"
     ]
    }
   ],
   "source": [
    "\n",
    "end_date = (date.today() - timedelta(days=2)).isoformat()\n",
    "print(end_date)  "
   ]
  },
  {
   "cell_type": "code",
   "execution_count": 4,
   "id": "ff658164",
   "metadata": {},
   "outputs": [
    {
     "name": "stdout",
     "output_type": "stream",
     "text": [
      "        Close                           Date        High         Low  \\\n",
      "0  137.391556  Tue, 02 Jan 2018 00:00:00 GMT  137.623766  136.444892   \n",
      "1  138.025620  Wed, 03 Jan 2018 00:00:00 GMT  138.418577  136.632416   \n",
      "2  139.659973  Thu, 04 Jan 2018 00:00:00 GMT  140.088648  138.222113   \n",
      "3  140.812042  Fri, 05 Jan 2018 00:00:00 GMT  140.856699  139.436704   \n",
      "4  141.937332  Mon, 08 Jan 2018 00:00:00 GMT  142.008780  140.070796   \n",
      "\n",
      "         Open Ticker   Volume  \n",
      "0  137.087912    ACN  3061900  \n",
      "1  136.632416    ACN  2064200  \n",
      "2  138.427517    ACN  1777000  \n",
      "3  139.865379    ACN  1597600  \n",
      "4  140.544128    ACN  2616900  \n"
     ]
    }
   ],
   "source": [
    "# Monta a URL\n",
    "url = f\"http://127.0.0.1:5000/api/data?symbol={symbol}&dtstart={start_date}&dtend={end_date}\"\n",
    "\n",
    "# Faz a requisição\n",
    "response = requests.get(url)\n",
    "\n",
    "# Converte para DataFrame\n",
    "if response.status_code == 200:\n",
    "    data = response.json()\n",
    "    df = pd.DataFrame(data)\n",
    "    print(df.head())\n",
    "else:\n",
    "    print(\"Erro ao requisitar os dados:\", response.status_code)"
   ]
  },
  {
   "cell_type": "markdown",
   "id": "4da85ce2",
   "metadata": {},
   "source": [
    "### Armazenando os dados para usar no modelo"
   ]
  },
  {
   "cell_type": "code",
   "execution_count": 5,
   "id": "2b9fbcd2",
   "metadata": {},
   "outputs": [
    {
     "name": "stdout",
     "output_type": "stream",
     "text": [
      "d:\\0Viviana\\1 FIAP\\4 fase\\challenge4\\techfase4\\techfase4\\data\n"
     ]
    }
   ],
   "source": [
    "import os\n",
    "print(os.getcwd())"
   ]
  },
  {
   "cell_type": "code",
   "execution_count": 6,
   "id": "fc85b073",
   "metadata": {},
   "outputs": [],
   "source": [
    "df.to_pickle(\"dados.pkl\")\n"
   ]
  }
 ],
 "metadata": {
  "kernelspec": {
   "display_name": "PyTorch_env",
   "language": "python",
   "name": "python3"
  },
  "language_info": {
   "codemirror_mode": {
    "name": "ipython",
    "version": 3
   },
   "file_extension": ".py",
   "mimetype": "text/x-python",
   "name": "python",
   "nbconvert_exporter": "python",
   "pygments_lexer": "ipython3",
   "version": "3.9.20"
  }
 },
 "nbformat": 4,
 "nbformat_minor": 5
}
